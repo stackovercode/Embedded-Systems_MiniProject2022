{
  "cells": [
    {
      "cell_type": "code",
      "execution_count": null,
      "metadata": {
        "id": "IdaT6qxSlLok"
      },
      "outputs": [],
      "source": [
        "from google.colab import drive\n",
        "\n",
        "drive.mount('/content/drive')\n"
      ]
    },
    {
      "cell_type": "code",
      "execution_count": null,
      "metadata": {
        "id": "-6X3b8V-lQnN"
      },
      "outputs": [],
      "source": [
        "import sys\n",
        "import random\n",
        "import numpy as np\n",
        "import matplotlib.pyplot as plt\n",
        "import time\n",
        "import pathlib\n",
        "import numpy as np \n",
        "import pandas as pd \n",
        "import matplotlib.pyplot as plt \n",
        "import seaborn as sns \n",
        "import tensorflow as tf \n",
        "import os \n",
        "import matplotlib.image as mpimg\n",
        "import random\n",
        "from tensorflow.keras import layers\n",
        "from tensorflow.keras.preprocessing.image import ImageDataGenerator \n",
        "from sklearn.model_selection import train_test_split \n",
        "from tensorflow.keras.utils import load_img, img_to_array\n",
        "from keras.callbacks import EarlyStopping, ReduceLROnPlateau\n",
        "import pathlib\n",
        "from keras.models import Sequential\n",
        "from keras.layers import Conv2D, MaxPooling2D, Dropout, Flatten, Dense, Activation, BatchNormalization\n",
        "from keras.utils.vis_utils import plot_model\n",
        "\n",
        "from PIL import Image\n",
        "import numpy as np\n",
        "from skimage import transform\n",
        "from os import walk\n",
        "\n",
        "sys.path.append('/content/drive/MyDrive/Master/1.Sem/EmbeddedSystems/Final_Project/')"
      ]
    },
    {
      "cell_type": "code",
      "execution_count": null,
      "metadata": {
        "id": "qRw6zjhHlXt1"
      },
      "outputs": [],
      "source": [
        "train_path = \"/content/drive/MyDrive/Master/1.Sem/EmbeddedSystems/Final_Project/Dataset_25by25/Training/\"\n",
        "test_path = \"/content/drive/MyDrive/Master/1.Sem/EmbeddedSystems/Final_Project/Dataset_25by25/Test/\"\n",
        "Figure_path = \"/content/drive/MyDrive/Master/1.Sem/EmbeddedSystems/Final_Project/PlotAndfigure/\"\n",
        "number_of_classes = 2"
      ]
    },
    {
      "cell_type": "code",
      "execution_count": null,
      "metadata": {
        "id": "LKki3lmSlk_R"
      },
      "outputs": [],
      "source": [
        "NUMBER_OF_CLASSES = 2\n",
        "FAST_RUN = False\n",
        "IMAGE_WIDTH=25\n",
        "IMAGE_HEIGHT=25\n",
        "IMAGE_SIZE=(IMAGE_WIDTH, IMAGE_HEIGHT)\n",
        "IMAGE_CHANNELS = 1"
      ]
    },
    {
      "cell_type": "code",
      "execution_count": null,
      "metadata": {
        "id": "re0ZtBswlv30"
      },
      "outputs": [],
      "source": [
        "filenames = os.listdir(\"/content/drive/MyDrive/Master/1.Sem/EmbeddedSystems/Final_Project/Dataset_25by25/Training\")\n",
        "categories = []\n",
        "for filename in filenames:\n",
        "    category = filename.split('_')[0]\n",
        "    #print(\"category \", category)\n",
        "    if category == 'pos0':\n",
        "        categories.append(0)\n",
        "    elif category == 'pos1':\n",
        "        categories.append(1)\n",
        "    elif category == 'pos2':\n",
        "        categories.append(2)\n",
        "    elif category == 'pos4':\n",
        "        categories.append(3)\n",
        "    else:\n",
        "        categories.append(4)\n",
        "\n",
        "df = pd.DataFrame({\n",
        "    'filename': filenames,\n",
        "    'category': categories\n",
        "})\n",
        "\n"
      ]
    },
    {
      "cell_type": "code",
      "source": [
        "for index, row in df.iterrows():\n",
        "  print( row['filename'], row['category'])\n",
        " "
      ],
      "metadata": {
        "id": "SkpcgCJprQl_"
      },
      "execution_count": null,
      "outputs": []
    },
    {
      "cell_type": "code",
      "execution_count": null,
      "metadata": {
        "id": "tWmrWcvhnal6"
      },
      "outputs": [],
      "source": [
        "df.head()"
      ]
    },
    {
      "cell_type": "code",
      "execution_count": null,
      "metadata": {
        "id": "X5qBvDr5ndaZ"
      },
      "outputs": [],
      "source": [
        "df.tail()"
      ]
    },
    {
      "cell_type": "code",
      "source": [
        "import matplotlib.pyplot as plt\n"
      ],
      "metadata": {
        "id": "NJAtI6q2CLo5"
      },
      "execution_count": null,
      "outputs": []
    },
    {
      "cell_type": "code",
      "execution_count": null,
      "metadata": {
        "id": "74G-OFKnnf_C"
      },
      "outputs": [],
      "source": [
        "fig = plt.figure()\n",
        "plt_bar = df['category'].value_counts().plot.bar()\n",
        "plt.savefig('/content/drive/MyDrive/Master/1.Sem/EmbeddedSystems/Final_Project/PlotAndfigure/DataDistribution.pdf', bbox_inches='tight')\n",
        "plt.savefig('/content/drive/MyDrive/Master/1.Sem/EmbeddedSystems/Final_Project/PlotAndfigure/DataDistribution.png', bbox_inches='tight')"
      ]
    },
    {
      "cell_type": "code",
      "source": [
        "\n"
      ],
      "metadata": {
        "id": "bsJtnvFJCQLX"
      },
      "execution_count": null,
      "outputs": []
    },
    {
      "cell_type": "markdown",
      "source": [],
      "metadata": {
        "id": "zRr2ONCGCP57"
      }
    },
    {
      "cell_type": "markdown",
      "metadata": {
        "id": "S0yjDBLCni43"
      },
      "source": [
        "# Visual images\n"
      ]
    },
    {
      "cell_type": "code",
      "execution_count": null,
      "metadata": {
        "id": "x-XYVvg3nmKv"
      },
      "outputs": [],
      "source": [
        "sample = random.choice(filenames)\n",
        "image = load_img(train_path+sample)\n",
        "plt.imshow(image)\n"
      ]
    },
    {
      "cell_type": "markdown",
      "metadata": {
        "id": "xMO6vWhUoTNK"
      },
      "source": [
        "# Build the CNN\n"
      ]
    },
    {
      "cell_type": "code",
      "execution_count": null,
      "metadata": {
        "id": "nzKEK-YvnwHV"
      },
      "outputs": [],
      "source": [
        "model = Sequential([\n",
        "\t\tFlatten(input_shape=(IMAGE_WIDTH,IMAGE_HEIGHT,IMAGE_CHANNELS)),\t\t# reshape 10x10 to 100, layer 0\n",
        "\t\tDense(64, activation='relu', use_bias=True),\n",
        "\t\tDense(32, activation='relu', use_bias=True),\n",
        "\t\tDense(NUMBER_OF_CLASSES, activation='softmax', use_bias=True),\n",
        "\t])\n",
        "\n",
        "model.compile(loss='categorical_crossentropy', optimizer='adam', metrics=['accuracy'])\n",
        "\n",
        "model.summary()"
      ]
    },
    {
      "cell_type": "code",
      "execution_count": null,
      "metadata": {
        "id": "L4shSZf6orgT"
      },
      "outputs": [],
      "source": [
        "earlystop = EarlyStopping(patience=10)\n",
        "learning_rate_reduction = ReduceLROnPlateau(monitor='val_accuracy', \n",
        "                                            patience=2, \n",
        "                                            verbose=1, \n",
        "                                            factor=0.5, \n",
        "                                            min_lr=0.00001)"
      ]
    },
    {
      "cell_type": "code",
      "execution_count": null,
      "metadata": {
        "id": "WilrcJ0uoy_k"
      },
      "outputs": [],
      "source": [
        "callbacks = [earlystop, learning_rate_reduction]"
      ]
    },
    {
      "cell_type": "code",
      "source": [
        "\n"
      ],
      "metadata": {
        "id": "lHm4HnysDViv"
      },
      "execution_count": null,
      "outputs": []
    },
    {
      "cell_type": "code",
      "source": [
        "plot_model(model, to_file= Figure_path +'model_plot.pdf', show_shapes=True, show_layer_names=True)"
      ],
      "metadata": {
        "id": "y2XChSCpC9NQ"
      },
      "execution_count": null,
      "outputs": []
    },
    {
      "cell_type": "markdown",
      "metadata": {
        "id": "cnonhLVro3UL"
      },
      "source": [
        "# Preper data\n"
      ]
    },
    {
      "cell_type": "code",
      "execution_count": null,
      "metadata": {
        "id": "qkDGUifAo6Hy"
      },
      "outputs": [],
      "source": [
        "df[\"category\"] = df[\"category\"].replace({0: 'pos0', 1: 'pos1'}) #, 2: 'pos3', 3: 'pos4'\n"
      ]
    },
    {
      "cell_type": "code",
      "execution_count": null,
      "metadata": {
        "id": "oKfQ4UpGpD2S"
      },
      "outputs": [],
      "source": [
        "train_df, validate_df = train_test_split(df, test_size=0.20, random_state=42)\n",
        "train_df = train_df.reset_index(drop=True)\n",
        "validate_df = validate_df.reset_index(drop=True)"
      ]
    },
    {
      "cell_type": "code",
      "execution_count": null,
      "metadata": {
        "id": "1JkIiN2JpF-f"
      },
      "outputs": [],
      "source": [
        "train_df['category'].value_counts().plot.bar()\n",
        "\n",
        "plt.savefig(Figure_path + 'DataDistributionTraining.pdf', bbox_inches='tight')\n",
        "plt.savefig(Figure_path +'DataDistributionTraining.png', bbox_inches='tight')\n"
      ]
    },
    {
      "cell_type": "code",
      "execution_count": null,
      "metadata": {
        "id": "lOyKicBppJLb"
      },
      "outputs": [],
      "source": [
        "validate_df['category'].value_counts().plot.bar()\n",
        "plt.savefig(Figure_path + 'DataDistributionValidation.pdf', bbox_inches='tight')\n",
        "plt.savefig(Figure_path +'DataDistributionValidation.png', bbox_inches='tight')\n"
      ]
    },
    {
      "cell_type": "code",
      "execution_count": null,
      "metadata": {
        "id": "wvLQu-CkpMGN"
      },
      "outputs": [],
      "source": [
        "total_train = train_df.shape[0]\n",
        "total_validate = validate_df.shape[0]\n",
        "batch_size= 64"
      ]
    },
    {
      "cell_type": "code",
      "execution_count": null,
      "metadata": {
        "id": "0Xf_YMazpPCb"
      },
      "outputs": [],
      "source": [
        "train_datagen = ImageDataGenerator(\n",
        "    #rescale=1./255,\n",
        "    #shear_range=0.1,\n",
        "    #zoom_range=0.2,\n",
        "    #horizontal_flip=True,\n",
        "    #width_shift_range=0.1,\n",
        "    #height_shift_range=0.1\n",
        ")\n",
        "\n",
        "train_generator = train_datagen.flow_from_dataframe(\n",
        "    train_df, \n",
        "    train_path, \n",
        "    x_col='filename',\n",
        "    y_col='category',\n",
        "    target_size=IMAGE_SIZE,\n",
        "    class_mode='categorical',\n",
        "    batch_size=batch_size,\n",
        "    shuffle=True,\n",
        "    grayscale=True, \n",
        "    color_mode=\"grayscale\"\n",
        "\n",
        "\n",
        ")"
      ]
    },
    {
      "cell_type": "code",
      "execution_count": null,
      "metadata": {
        "id": "dD2A8lKXpjyM"
      },
      "outputs": [],
      "source": [
        "validation_datagen = ImageDataGenerator()#rescale=1./255)\n",
        "validation_generator = validation_datagen.flow_from_dataframe(\n",
        "    validate_df, \n",
        "    train_path, \n",
        "    x_col='filename',\n",
        "    y_col='category',\n",
        "    target_size=IMAGE_SIZE,\n",
        "    class_mode='categorical',\n",
        "    batch_size=batch_size,\n",
        "    shuffle=True,\n",
        "    grayscale=True, color_mode=\"grayscale\"\n",
        ")"
      ]
    },
    {
      "cell_type": "code",
      "execution_count": null,
      "metadata": {
        "id": "cgv8I-vrp51j"
      },
      "outputs": [],
      "source": [
        "epochs=3 if FAST_RUN else 100\n",
        "history = model.fit(train_generator,\n",
        "    epochs=epochs,\n",
        "    validation_data=validation_generator,\n",
        "    validation_steps=total_validate//batch_size,\n",
        "    steps_per_epoch=total_train//batch_size,\n",
        "    callbacks=callbacks\n",
        ")"
      ]
    },
    {
      "cell_type": "code",
      "execution_count": null,
      "metadata": {
        "id": "XWMxrzh-12-t"
      },
      "outputs": [],
      "source": [
        "# summarize history for accuracy\n",
        "plt.plot(history.history['accuracy'])\n",
        "plt.plot(history.history['val_accuracy'])\n",
        "plt.title('Model accuracy')\n",
        "plt.ylabel('accuracy')\n",
        "plt.xlabel('epoch')\n",
        "plt.legend(['train', 'validation'], loc='upper left')\n",
        "plt.savefig(Figure_path + 'TrainingAccuracy.pdf', bbox_inches='tight')\n",
        "plt.savefig(Figure_path +'TrainingAccuracy.png', bbox_inches='tight')\n",
        "\n",
        "plt.show()"
      ]
    },
    {
      "cell_type": "code",
      "execution_count": null,
      "metadata": {
        "id": "5ll6PDu216Yn"
      },
      "outputs": [],
      "source": [
        "plt.plot(history.history['loss'])\n",
        "plt.plot(history.history['val_loss'])\n",
        "plt.title('Model loss')\n",
        "plt.ylabel('loss')\n",
        "plt.xlabel('epoch')\n",
        "plt.legend(['train', 'validation'], loc='upper left')\n",
        "plt.savefig(Figure_path + 'TrainingLoss.pdf', bbox_inches='tight')\n",
        "plt.savefig(Figure_path +'TrainingLoss.png', bbox_inches='tight')\n",
        "plt.show()"
      ]
    },
    {
      "cell_type": "markdown",
      "source": [
        "#Predict single image\n"
      ],
      "metadata": {
        "id": "FZrL3__uSkEw"
      }
    },
    {
      "cell_type": "code",
      "source": [
        "\n",
        "\n",
        "image = load(\"/content/drive/MyDrive/Master/1.Sem/EmbeddedSystems/Final_Project/Dataset_merged_faces_no_faces/Merged_Test/pos1_2838.jpg\",)\n",
        "pred = model.predict(image)\n",
        "print(\"result \", pred)\n",
        "\n",
        "index_max = np.argmax(pred,axis=1)\n",
        "print(\" Predicted pos \", index_max)\n"
      ],
      "metadata": {
        "id": "GKLx1pM2T71X"
      },
      "execution_count": null,
      "outputs": []
    },
    {
      "cell_type": "markdown",
      "source": [
        "# Predict Test Dataset"
      ],
      "metadata": {
        "id": "V7Th0toTIBzt"
      }
    },
    {
      "cell_type": "code",
      "source": [
        "# Predict image\n",
        "def load(filename):\n",
        "   np_image = Image.open(filename)\n",
        "   np_image = np.array(np_image).astype('float32')\n",
        "   np_image = transform.resize(np_image, (25, 25, 1))\n",
        "   np_image = np.expand_dims(np_image, axis=0)\n",
        "   \n",
        "   return np_image"
      ],
      "metadata": {
        "id": "I_Lcyk5F1x2z"
      },
      "execution_count": null,
      "outputs": []
    },
    {
      "cell_type": "code",
      "source": [
        "Test_names = []\n",
        "test_images = test_path\n",
        "for (dirpath, dirnames, filenames) in walk(test_images):\n",
        "    Test_names.extend(filenames)\n"
      ],
      "metadata": {
        "id": "cU15Ooojwn9k"
      },
      "execution_count": null,
      "outputs": []
    },
    {
      "cell_type": "code",
      "source": [
        "y_gt = []\n",
        "y_predict = []\n",
        "\n",
        "for test in Test_names:\n",
        "  image = load(test_images + test)\n",
        "  pred = model.predict(image)\n",
        "  index_max = np.argmax(pred,axis=1)\n",
        "  temp = test.split('_', 1)[0]\n",
        "  gt =  temp[len(temp)-1]\n",
        "  int_gt = int(gt)\n",
        "\n",
        "  y_predict.append(index_max)\n",
        "  y_gt.append(int_gt)\n",
        "  \n"
      ],
      "metadata": {
        "id": "PHeteQfMyTJG"
      },
      "execution_count": null,
      "outputs": []
    },
    {
      "cell_type": "code",
      "source": [
        "from sklearn.metrics import confusion_matrix\n",
        "\n",
        "result = confusion_matrix( y_predict , y_gt, normalize='pred')\n",
        "print(result)"
      ],
      "metadata": {
        "id": "A1zXe675wwga"
      },
      "execution_count": null,
      "outputs": []
    },
    {
      "cell_type": "code",
      "source": [
        "plt.figure(figsize = (15,15))\n",
        "\n",
        "x_axis_labels = [\"pos0\",\"pos1\"] # labels for x-axis\n",
        "\n",
        "sns.heatmap(pd.DataFrame(result), xticklabels = x_axis_labels, yticklabels = x_axis_labels ,  annot = True, cmap=\"Blues\")\n",
        "\n",
        "plt.savefig(Figure_path + 'TestConfusionMatrix.pdf', bbox_inches='tight')\n",
        "plt.savefig(Figure_path +'TestConfusionMatrix.png', bbox_inches='tight')\n",
        "\n"
      ],
      "metadata": {
        "id": "KiKofJFSGZd7"
      },
      "execution_count": null,
      "outputs": []
    },
    {
      "cell_type": "markdown",
      "source": [
        "#Export the weight\n"
      ],
      "metadata": {
        "id": "7NedSEgkEY7A"
      }
    },
    {
      "cell_type": "code",
      "source": [
        "for w in range(1, len(model.layers)):\n",
        "  weight_filename = \"/content/drive/MyDrive/Master/1.Sem/EmbeddedSystems/Final_Project/Weights_25by25/layer_\" + str(w) + \"_weights.txt\" \n",
        "  open(weight_filename, 'w').close() # clear file\n",
        "  file = open(weight_filename,\"a\") \n",
        "  file.write('{')\n",
        "  for i in range(model.layers[w].weights[0].numpy().shape[0]):\n",
        "    file.write('{')\n",
        "    for j in range(model.layers[w].weights[0].numpy().shape[1]):\n",
        "      file.write(str(model.layers[w].weights[0].numpy()[i][j]))\n",
        "      if j != model.layers[w].weights[0].numpy().shape[1]-1:\n",
        "        file.write(', ')\n",
        "    file.write('}')\n",
        "    if i != model.layers[w].weights[0].numpy().shape[0]-1:\n",
        "      file.write(', \\n')\n",
        "  file.write('}')\n",
        "  file.close()\n",
        "\n",
        "network_weights = model.layers[1].weights\n",
        "#print(network_weights)\n",
        "layer_1_W = network_weights[0].numpy()"
      ],
      "metadata": {
        "id": "cFbFlhdWwbug"
      },
      "execution_count": null,
      "outputs": []
    },
    {
      "cell_type": "markdown",
      "source": [
        "#Save image to txt file"
      ],
      "metadata": {
        "id": "Pa4x2daQA1C-"
      }
    },
    {
      "cell_type": "code",
      "source": [
        "import cv2\n",
        "import numpy as np\n",
        "\n",
        "# read the image\n",
        "image = cv2.imread(\"/content/drive/MyDrive/Master/1.Sem/EmbeddedSystems/Final_Project/Dataset_25by25/Test/pos0_1242.jpg\", cv2.IMREAD_GRAYSCALE)\n",
        "\n",
        "\n",
        "# convert the data type of the image to float\n",
        "image = image.astype(float)\n",
        "\n",
        "\n",
        "# normalize the image between 0 and 1\n",
        "normalized_image = image #/ 255\n"
      ],
      "metadata": {
        "id": "Ddf1vQqF3tDl"
      },
      "execution_count": null,
      "outputs": []
    },
    {
      "cell_type": "code",
      "source": [
        "filename = \"/content/drive/MyDrive/Master/1.Sem/EmbeddedSystems/Final_Project/Images_RawData/pos0_1242.txt\"\n",
        "\n",
        "#w tells python we are opening the file to write into it\n",
        "outfile = open(filename, 'w')\n",
        "\n",
        "\n",
        "for i in range(len(normalized_image)):\n",
        "  for j in range(len(normalized_image[i])):\n",
        "    g = float(\"{:.5f}\".format(normalized_image[i][j]))\n",
        "    print(g)\n",
        "    nCounter = nCounter +1\n",
        "    outfile.write(str(g)+ ',')"
      ],
      "metadata": {
        "id": "wxjxesK1AGt1"
      },
      "execution_count": null,
      "outputs": []
    }
  ],
  "metadata": {
    "colab": {
      "private_outputs": true,
      "provenance": []
    },
    "kernelspec": {
      "display_name": "Python 3",
      "name": "python3"
    },
    "language_info": {
      "name": "python"
    },
    "accelerator": "GPU",
    "gpuClass": "standard"
  },
  "nbformat": 4,
  "nbformat_minor": 0
}